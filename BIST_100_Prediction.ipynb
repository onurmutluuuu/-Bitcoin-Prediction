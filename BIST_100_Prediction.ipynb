{
 "cells": [
  {
   "cell_type": "code",
   "execution_count": 35,
   "metadata": {},
   "outputs": [],
   "source": [
    "import numpy as np\n",
    "import pandas as pd"
   ]
  },
  {
   "cell_type": "code",
   "execution_count": 36,
   "metadata": {},
   "outputs": [],
   "source": [
    "data = pd.read_excel('veriler.xlsx')"
   ]
  },
  {
   "cell_type": "code",
   "execution_count": 37,
   "metadata": {},
   "outputs": [
    {
     "data": {
      "text/html": [
       "<div>\n",
       "<style scoped>\n",
       "    .dataframe tbody tr th:only-of-type {\n",
       "        vertical-align: middle;\n",
       "    }\n",
       "\n",
       "    .dataframe tbody tr th {\n",
       "        vertical-align: top;\n",
       "    }\n",
       "\n",
       "    .dataframe thead th {\n",
       "        text-align: right;\n",
       "    }\n",
       "</style>\n",
       "<table border=\"1\" class=\"dataframe\">\n",
       "  <thead>\n",
       "    <tr style=\"text-align: right;\">\n",
       "      <th></th>\n",
       "      <th>Date</th>\n",
       "      <th>High</th>\n",
       "      <th>Low</th>\n",
       "      <th>Open</th>\n",
       "      <th>Close</th>\n",
       "      <th>Volume</th>\n",
       "      <th>Adj Close</th>\n",
       "    </tr>\n",
       "  </thead>\n",
       "  <tbody>\n",
       "    <tr>\n",
       "      <th>0</th>\n",
       "      <td>2014-09-16</td>\n",
       "      <td>468.2</td>\n",
       "      <td>452.4</td>\n",
       "      <td>465.9</td>\n",
       "      <td>457.3</td>\n",
       "      <td>21056800.0</td>\n",
       "      <td>457.3</td>\n",
       "    </tr>\n",
       "    <tr>\n",
       "      <th>1</th>\n",
       "      <td>2014-09-17</td>\n",
       "      <td>456.9</td>\n",
       "      <td>413.1</td>\n",
       "      <td>456.9</td>\n",
       "      <td>424.4</td>\n",
       "      <td>34483200.0</td>\n",
       "      <td>424.4</td>\n",
       "    </tr>\n",
       "    <tr>\n",
       "      <th>2</th>\n",
       "      <td>2014-09-18</td>\n",
       "      <td>427.8</td>\n",
       "      <td>384.5</td>\n",
       "      <td>424.1</td>\n",
       "      <td>394.8</td>\n",
       "      <td>37919700.0</td>\n",
       "      <td>394.8</td>\n",
       "    </tr>\n",
       "    <tr>\n",
       "      <th>3</th>\n",
       "      <td>2014-09-19</td>\n",
       "      <td>423.3</td>\n",
       "      <td>389.9</td>\n",
       "      <td>394.7</td>\n",
       "      <td>408.9</td>\n",
       "      <td>36863600.0</td>\n",
       "      <td>408.9</td>\n",
       "    </tr>\n",
       "    <tr>\n",
       "      <th>4</th>\n",
       "      <td>2014-09-20</td>\n",
       "      <td>412.4</td>\n",
       "      <td>393.2</td>\n",
       "      <td>408.1</td>\n",
       "      <td>398.8</td>\n",
       "      <td>26580100.0</td>\n",
       "      <td>398.8</td>\n",
       "    </tr>\n",
       "  </tbody>\n",
       "</table>\n",
       "</div>"
      ],
      "text/plain": [
       "        Date   High    Low   Open  Close      Volume  Adj Close\n",
       "0 2014-09-16  468.2  452.4  465.9  457.3  21056800.0      457.3\n",
       "1 2014-09-17  456.9  413.1  456.9  424.4  34483200.0      424.4\n",
       "2 2014-09-18  427.8  384.5  424.1  394.8  37919700.0      394.8\n",
       "3 2014-09-19  423.3  389.9  394.7  408.9  36863600.0      408.9\n",
       "4 2014-09-20  412.4  393.2  408.1  398.8  26580100.0      398.8"
      ]
     },
     "execution_count": 37,
     "metadata": {},
     "output_type": "execute_result"
    }
   ],
   "source": [
    "data.head()"
   ]
  },
  {
   "cell_type": "code",
   "execution_count": 38,
   "metadata": {},
   "outputs": [
    {
     "name": "stdout",
     "output_type": "stream",
     "text": [
      "<class 'pandas.core.frame.DataFrame'>\n",
      "RangeIndex: 2296 entries, 0 to 2295\n",
      "Data columns (total 7 columns):\n",
      " #   Column     Non-Null Count  Dtype         \n",
      "---  ------     --------------  -----         \n",
      " 0   Date       2296 non-null   datetime64[ns]\n",
      " 1   High       2296 non-null   float64       \n",
      " 2   Low        2296 non-null   float64       \n",
      " 3   Open       2296 non-null   float64       \n",
      " 4   Close      2296 non-null   float64       \n",
      " 5   Volume     2296 non-null   float64       \n",
      " 6   Adj Close  2296 non-null   float64       \n",
      "dtypes: datetime64[ns](1), float64(6)\n",
      "memory usage: 125.7 KB\n"
     ]
    }
   ],
   "source": [
    "data.info()"
   ]
  },
  {
   "cell_type": "code",
   "execution_count": 39,
   "metadata": {},
   "outputs": [
    {
     "data": {
      "text/plain": [
       "False"
      ]
     },
     "execution_count": 39,
     "metadata": {},
     "output_type": "execute_result"
    }
   ],
   "source": [
    "data.isnull().values.any()"
   ]
  },
  {
   "cell_type": "code",
   "execution_count": 40,
   "metadata": {},
   "outputs": [
    {
     "data": {
      "text/html": [
       "<div>\n",
       "<style scoped>\n",
       "    .dataframe tbody tr th:only-of-type {\n",
       "        vertical-align: middle;\n",
       "    }\n",
       "\n",
       "    .dataframe tbody tr th {\n",
       "        vertical-align: top;\n",
       "    }\n",
       "\n",
       "    .dataframe thead th {\n",
       "        text-align: right;\n",
       "    }\n",
       "</style>\n",
       "<table border=\"1\" class=\"dataframe\">\n",
       "  <thead>\n",
       "    <tr style=\"text-align: right;\">\n",
       "      <th></th>\n",
       "      <th>High</th>\n",
       "      <th>Low</th>\n",
       "      <th>Open</th>\n",
       "      <th>Close</th>\n",
       "      <th>Volume</th>\n",
       "      <th>Adj Close</th>\n",
       "    </tr>\n",
       "  </thead>\n",
       "  <tbody>\n",
       "    <tr>\n",
       "      <th>High</th>\n",
       "      <td>1.000000</td>\n",
       "      <td>0.998141</td>\n",
       "      <td>0.998965</td>\n",
       "      <td>0.999163</td>\n",
       "      <td>0.756691</td>\n",
       "      <td>0.999163</td>\n",
       "    </tr>\n",
       "    <tr>\n",
       "      <th>Low</th>\n",
       "      <td>0.998141</td>\n",
       "      <td>1.000000</td>\n",
       "      <td>0.998580</td>\n",
       "      <td>0.998975</td>\n",
       "      <td>0.756778</td>\n",
       "      <td>0.998975</td>\n",
       "    </tr>\n",
       "    <tr>\n",
       "      <th>Open</th>\n",
       "      <td>0.998965</td>\n",
       "      <td>0.998580</td>\n",
       "      <td>1.000000</td>\n",
       "      <td>0.998012</td>\n",
       "      <td>0.755604</td>\n",
       "      <td>0.998012</td>\n",
       "    </tr>\n",
       "    <tr>\n",
       "      <th>Close</th>\n",
       "      <td>0.999163</td>\n",
       "      <td>0.998975</td>\n",
       "      <td>0.998012</td>\n",
       "      <td>1.000000</td>\n",
       "      <td>0.756336</td>\n",
       "      <td>1.000000</td>\n",
       "    </tr>\n",
       "    <tr>\n",
       "      <th>Volume</th>\n",
       "      <td>0.756691</td>\n",
       "      <td>0.756778</td>\n",
       "      <td>0.755604</td>\n",
       "      <td>0.756336</td>\n",
       "      <td>1.000000</td>\n",
       "      <td>0.756336</td>\n",
       "    </tr>\n",
       "    <tr>\n",
       "      <th>Adj Close</th>\n",
       "      <td>0.999163</td>\n",
       "      <td>0.998975</td>\n",
       "      <td>0.998012</td>\n",
       "      <td>1.000000</td>\n",
       "      <td>0.756336</td>\n",
       "      <td>1.000000</td>\n",
       "    </tr>\n",
       "  </tbody>\n",
       "</table>\n",
       "</div>"
      ],
      "text/plain": [
       "               High       Low      Open     Close    Volume  Adj Close\n",
       "High       1.000000  0.998141  0.998965  0.999163  0.756691   0.999163\n",
       "Low        0.998141  1.000000  0.998580  0.998975  0.756778   0.998975\n",
       "Open       0.998965  0.998580  1.000000  0.998012  0.755604   0.998012\n",
       "Close      0.999163  0.998975  0.998012  1.000000  0.756336   1.000000\n",
       "Volume     0.756691  0.756778  0.755604  0.756336  1.000000   0.756336\n",
       "Adj Close  0.999163  0.998975  0.998012  1.000000  0.756336   1.000000"
      ]
     },
     "execution_count": 40,
     "metadata": {},
     "output_type": "execute_result"
    }
   ],
   "source": [
    "data.corr()"
   ]
  },
  {
   "cell_type": "code",
   "execution_count": 41,
   "metadata": {},
   "outputs": [
    {
     "data": {
      "text/html": [
       "<div>\n",
       "<style scoped>\n",
       "    .dataframe tbody tr th:only-of-type {\n",
       "        vertical-align: middle;\n",
       "    }\n",
       "\n",
       "    .dataframe tbody tr th {\n",
       "        vertical-align: top;\n",
       "    }\n",
       "\n",
       "    .dataframe thead th {\n",
       "        text-align: right;\n",
       "    }\n",
       "</style>\n",
       "<table border=\"1\" class=\"dataframe\">\n",
       "  <thead>\n",
       "    <tr style=\"text-align: right;\">\n",
       "      <th></th>\n",
       "      <th>High</th>\n",
       "      <th>Low</th>\n",
       "      <th>Open</th>\n",
       "      <th>Close</th>\n",
       "      <th>Volume</th>\n",
       "      <th>Adj Close</th>\n",
       "    </tr>\n",
       "  </thead>\n",
       "  <tbody>\n",
       "    <tr>\n",
       "      <th>count</th>\n",
       "      <td>2296.000000</td>\n",
       "      <td>2296.000000</td>\n",
       "      <td>2296.000000</td>\n",
       "      <td>2296.000000</td>\n",
       "      <td>2.296000e+03</td>\n",
       "      <td>2296.000000</td>\n",
       "    </tr>\n",
       "    <tr>\n",
       "      <th>mean</th>\n",
       "      <td>5061.491028</td>\n",
       "      <td>4807.296211</td>\n",
       "      <td>4934.266159</td>\n",
       "      <td>4947.936411</td>\n",
       "      <td>9.108686e+09</td>\n",
       "      <td>4947.936411</td>\n",
       "    </tr>\n",
       "    <tr>\n",
       "      <th>std</th>\n",
       "      <td>5007.874318</td>\n",
       "      <td>4719.763205</td>\n",
       "      <td>4857.460003</td>\n",
       "      <td>4889.611586</td>\n",
       "      <td>1.285475e+10</td>\n",
       "      <td>4889.611586</td>\n",
       "    </tr>\n",
       "    <tr>\n",
       "      <th>min</th>\n",
       "      <td>211.700000</td>\n",
       "      <td>171.500000</td>\n",
       "      <td>176.900000</td>\n",
       "      <td>178.100000</td>\n",
       "      <td>5.914570e+06</td>\n",
       "      <td>178.100000</td>\n",
       "    </tr>\n",
       "    <tr>\n",
       "      <th>25%</th>\n",
       "      <td>450.475000</td>\n",
       "      <td>438.950000</td>\n",
       "      <td>444.925000</td>\n",
       "      <td>444.700000</td>\n",
       "      <td>6.217712e+07</td>\n",
       "      <td>444.700000</td>\n",
       "    </tr>\n",
       "    <tr>\n",
       "      <th>50%</th>\n",
       "      <td>3953.250000</td>\n",
       "      <td>3821.450000</td>\n",
       "      <td>3889.600000</td>\n",
       "      <td>3895.250000</td>\n",
       "      <td>3.195640e+09</td>\n",
       "      <td>3895.250000</td>\n",
       "    </tr>\n",
       "    <tr>\n",
       "      <th>75%</th>\n",
       "      <td>8625.375000</td>\n",
       "      <td>8187.125000</td>\n",
       "      <td>8382.475000</td>\n",
       "      <td>8409.625000</td>\n",
       "      <td>1.551515e+10</td>\n",
       "      <td>8409.625000</td>\n",
       "    </tr>\n",
       "    <tr>\n",
       "      <th>max</th>\n",
       "      <td>33155.100000</td>\n",
       "      <td>29091.200000</td>\n",
       "      <td>29376.500000</td>\n",
       "      <td>32127.300000</td>\n",
       "      <td>7.415677e+10</td>\n",
       "      <td>32127.300000</td>\n",
       "    </tr>\n",
       "  </tbody>\n",
       "</table>\n",
       "</div>"
      ],
      "text/plain": [
       "               High           Low          Open         Close        Volume  \\\n",
       "count   2296.000000   2296.000000   2296.000000   2296.000000  2.296000e+03   \n",
       "mean    5061.491028   4807.296211   4934.266159   4947.936411  9.108686e+09   \n",
       "std     5007.874318   4719.763205   4857.460003   4889.611586  1.285475e+10   \n",
       "min      211.700000    171.500000    176.900000    178.100000  5.914570e+06   \n",
       "25%      450.475000    438.950000    444.925000    444.700000  6.217712e+07   \n",
       "50%     3953.250000   3821.450000   3889.600000   3895.250000  3.195640e+09   \n",
       "75%     8625.375000   8187.125000   8382.475000   8409.625000  1.551515e+10   \n",
       "max    33155.100000  29091.200000  29376.500000  32127.300000  7.415677e+10   \n",
       "\n",
       "          Adj Close  \n",
       "count   2296.000000  \n",
       "mean    4947.936411  \n",
       "std     4889.611586  \n",
       "min      178.100000  \n",
       "25%      444.700000  \n",
       "50%     3895.250000  \n",
       "75%     8409.625000  \n",
       "max    32127.300000  "
      ]
     },
     "execution_count": 41,
     "metadata": {},
     "output_type": "execute_result"
    }
   ],
   "source": [
    "data.describe()"
   ]
  },
  {
   "cell_type": "raw",
   "metadata": {},
   "source": [
    "the history section does not usefull for this project."
   ]
  },
  {
   "cell_type": "code",
   "execution_count": 42,
   "metadata": {},
   "outputs": [],
   "source": [
    "new_data = data.drop(['Date'], axis = 1)"
   ]
  },
  {
   "cell_type": "raw",
   "metadata": {},
   "source": [
    "If we convert the data between 0 and 1, it will find results faster in machine learning."
   ]
  },
  {
   "cell_type": "code",
   "execution_count": 43,
   "metadata": {},
   "outputs": [],
   "source": [
    "from sklearn.preprocessing import MinMaxScaler"
   ]
  },
  {
   "cell_type": "code",
   "execution_count": 44,
   "metadata": {},
   "outputs": [],
   "source": [
    "scaler = MinMaxScaler()"
   ]
  },
  {
   "cell_type": "code",
   "execution_count": 45,
   "metadata": {},
   "outputs": [],
   "source": [
    "sc_data = scaler.fit_transform(new_data)   "
   ]
  },
  {
   "cell_type": "code",
   "execution_count": 48,
   "metadata": {},
   "outputs": [],
   "source": [
    "sc_data = pd.DataFrame(sc_data, columns=new_data.columns)"
   ]
  },
  {
   "cell_type": "code",
   "execution_count": 49,
   "metadata": {},
   "outputs": [
    {
     "data": {
      "text/html": [
       "<div>\n",
       "<style scoped>\n",
       "    .dataframe tbody tr th:only-of-type {\n",
       "        vertical-align: middle;\n",
       "    }\n",
       "\n",
       "    .dataframe tbody tr th {\n",
       "        vertical-align: top;\n",
       "    }\n",
       "\n",
       "    .dataframe thead th {\n",
       "        text-align: right;\n",
       "    }\n",
       "</style>\n",
       "<table border=\"1\" class=\"dataframe\">\n",
       "  <thead>\n",
       "    <tr style=\"text-align: right;\">\n",
       "      <th></th>\n",
       "      <th>High</th>\n",
       "      <th>Low</th>\n",
       "      <th>Open</th>\n",
       "      <th>Close</th>\n",
       "      <th>Volume</th>\n",
       "      <th>Adj Close</th>\n",
       "    </tr>\n",
       "  </thead>\n",
       "  <tbody>\n",
       "    <tr>\n",
       "      <th>0</th>\n",
       "      <td>0.007786</td>\n",
       "      <td>0.009713</td>\n",
       "      <td>0.009897</td>\n",
       "      <td>0.008739</td>\n",
       "      <td>0.000204</td>\n",
       "      <td>0.008739</td>\n",
       "    </tr>\n",
       "    <tr>\n",
       "      <th>1</th>\n",
       "      <td>0.007443</td>\n",
       "      <td>0.008354</td>\n",
       "      <td>0.009589</td>\n",
       "      <td>0.007709</td>\n",
       "      <td>0.000385</td>\n",
       "      <td>0.007709</td>\n",
       "    </tr>\n",
       "    <tr>\n",
       "      <th>2</th>\n",
       "      <td>0.006560</td>\n",
       "      <td>0.007365</td>\n",
       "      <td>0.008466</td>\n",
       "      <td>0.006783</td>\n",
       "      <td>0.000432</td>\n",
       "      <td>0.006783</td>\n",
       "    </tr>\n",
       "    <tr>\n",
       "      <th>3</th>\n",
       "      <td>0.006423</td>\n",
       "      <td>0.007552</td>\n",
       "      <td>0.007459</td>\n",
       "      <td>0.007224</td>\n",
       "      <td>0.000417</td>\n",
       "      <td>0.007224</td>\n",
       "    </tr>\n",
       "    <tr>\n",
       "      <th>4</th>\n",
       "      <td>0.006092</td>\n",
       "      <td>0.007666</td>\n",
       "      <td>0.007918</td>\n",
       "      <td>0.006908</td>\n",
       "      <td>0.000279</td>\n",
       "      <td>0.006908</td>\n",
       "    </tr>\n",
       "  </tbody>\n",
       "</table>\n",
       "</div>"
      ],
      "text/plain": [
       "       High       Low      Open     Close    Volume  Adj Close\n",
       "0  0.007786  0.009713  0.009897  0.008739  0.000204   0.008739\n",
       "1  0.007443  0.008354  0.009589  0.007709  0.000385   0.007709\n",
       "2  0.006560  0.007365  0.008466  0.006783  0.000432   0.006783\n",
       "3  0.006423  0.007552  0.007459  0.007224  0.000417   0.007224\n",
       "4  0.006092  0.007666  0.007918  0.006908  0.000279   0.006908"
      ]
     },
     "execution_count": 49,
     "metadata": {},
     "output_type": "execute_result"
    }
   ],
   "source": [
    "sc_data.head()"
   ]
  },
  {
   "cell_type": "code",
   "execution_count": 58,
   "metadata": {},
   "outputs": [],
   "source": [
    "y = sc_data[\"Close\"]"
   ]
  },
  {
   "cell_type": "code",
   "execution_count": 59,
   "metadata": {},
   "outputs": [],
   "source": [
    "X = sc_data.drop([\"Close\"], axis=1).astype('float64')"
   ]
  },
  {
   "cell_type": "code",
   "execution_count": 60,
   "metadata": {},
   "outputs": [
    {
     "data": {
      "text/html": [
       "<div>\n",
       "<style scoped>\n",
       "    .dataframe tbody tr th:only-of-type {\n",
       "        vertical-align: middle;\n",
       "    }\n",
       "\n",
       "    .dataframe tbody tr th {\n",
       "        vertical-align: top;\n",
       "    }\n",
       "\n",
       "    .dataframe thead th {\n",
       "        text-align: right;\n",
       "    }\n",
       "</style>\n",
       "<table border=\"1\" class=\"dataframe\">\n",
       "  <thead>\n",
       "    <tr style=\"text-align: right;\">\n",
       "      <th></th>\n",
       "      <th>High</th>\n",
       "      <th>Low</th>\n",
       "      <th>Open</th>\n",
       "      <th>Volume</th>\n",
       "      <th>Adj Close</th>\n",
       "    </tr>\n",
       "  </thead>\n",
       "  <tbody>\n",
       "    <tr>\n",
       "      <th>0</th>\n",
       "      <td>0.007786</td>\n",
       "      <td>0.009713</td>\n",
       "      <td>0.009897</td>\n",
       "      <td>0.000204</td>\n",
       "      <td>0.008739</td>\n",
       "    </tr>\n",
       "    <tr>\n",
       "      <th>1</th>\n",
       "      <td>0.007443</td>\n",
       "      <td>0.008354</td>\n",
       "      <td>0.009589</td>\n",
       "      <td>0.000385</td>\n",
       "      <td>0.007709</td>\n",
       "    </tr>\n",
       "    <tr>\n",
       "      <th>2</th>\n",
       "      <td>0.006560</td>\n",
       "      <td>0.007365</td>\n",
       "      <td>0.008466</td>\n",
       "      <td>0.000432</td>\n",
       "      <td>0.006783</td>\n",
       "    </tr>\n",
       "    <tr>\n",
       "      <th>3</th>\n",
       "      <td>0.006423</td>\n",
       "      <td>0.007552</td>\n",
       "      <td>0.007459</td>\n",
       "      <td>0.000417</td>\n",
       "      <td>0.007224</td>\n",
       "    </tr>\n",
       "    <tr>\n",
       "      <th>4</th>\n",
       "      <td>0.006092</td>\n",
       "      <td>0.007666</td>\n",
       "      <td>0.007918</td>\n",
       "      <td>0.000279</td>\n",
       "      <td>0.006908</td>\n",
       "    </tr>\n",
       "  </tbody>\n",
       "</table>\n",
       "</div>"
      ],
      "text/plain": [
       "       High       Low      Open    Volume  Adj Close\n",
       "0  0.007786  0.009713  0.009897  0.000204   0.008739\n",
       "1  0.007443  0.008354  0.009589  0.000385   0.007709\n",
       "2  0.006560  0.007365  0.008466  0.000432   0.006783\n",
       "3  0.006423  0.007552  0.007459  0.000417   0.007224\n",
       "4  0.006092  0.007666  0.007918  0.000279   0.006908"
      ]
     },
     "execution_count": 60,
     "metadata": {},
     "output_type": "execute_result"
    }
   ],
   "source": [
    "X.head()"
   ]
  },
  {
   "cell_type": "code",
   "execution_count": 61,
   "metadata": {},
   "outputs": [
    {
     "data": {
      "text/plain": [
       "0    0.008739\n",
       "1    0.007709\n",
       "2    0.006783\n",
       "3    0.007224\n",
       "4    0.006908\n",
       "Name: Close, dtype: float64"
      ]
     },
     "execution_count": 61,
     "metadata": {},
     "output_type": "execute_result"
    }
   ],
   "source": [
    "y.head()"
   ]
  },
  {
   "cell_type": "code",
   "execution_count": 62,
   "metadata": {},
   "outputs": [],
   "source": [
    "X = pd.DataFrame(X)\n",
    "y = pd.DataFrame(Y)"
   ]
  },
  {
   "cell_type": "markdown",
   "metadata": {},
   "source": [
    "## Library to be used"
   ]
  },
  {
   "cell_type": "code",
   "execution_count": 88,
   "metadata": {},
   "outputs": [],
   "source": [
    "from sklearn.model_selection import train_test_split\n",
    "from sklearn.metrics import mean_squared_error, r2_score\n",
    "from sklearn.model_selection import cross_val_score\n",
    "from sklearn.neighbors import KNeighborsRegressor \n",
    "from sklearn.model_selection import GridSearchCV"
   ]
  },
  {
   "cell_type": "code",
   "execution_count": 66,
   "metadata": {},
   "outputs": [],
   "source": [
    "X_train,X_test,y_train,y_test = train_test_split(X,y,test_size = 0.2, random_state= 0)"
   ]
  },
  {
   "cell_type": "markdown",
   "metadata": {},
   "source": [
    "## KNN Regression"
   ]
  },
  {
   "cell_type": "code",
   "execution_count": 80,
   "metadata": {},
   "outputs": [],
   "source": [
    "knn = KNeighborsRegressor()"
   ]
  },
  {
   "cell_type": "code",
   "execution_count": 81,
   "metadata": {},
   "outputs": [],
   "source": [
    "knn_model = knn.fit(X_train, y_train)"
   ]
  },
  {
   "cell_type": "code",
   "execution_count": 82,
   "metadata": {},
   "outputs": [
    {
     "data": {
      "text/plain": [
       "GridSearchCV(cv=5, estimator=KNeighborsRegressor(),\n",
       "             param_grid={'n_neighbors': array([ 1,  2,  3,  4,  5,  6,  7,  8,  9, 10, 11, 12, 13, 14, 15, 16, 17,\n",
       "       18, 19, 20, 21, 22, 23, 24, 25, 26, 27, 28, 29, 30, 31, 32, 33, 34,\n",
       "       35, 36, 37, 38, 39, 40, 41, 42, 43, 44, 45, 46, 47, 48, 49])})"
      ]
     },
     "execution_count": 82,
     "metadata": {},
     "output_type": "execute_result"
    }
   ],
   "source": [
    "knn_params = {\"n_neighbors\": np.arange(1,50)}\n",
    "grid = GridSearchCV(knn, knn_params, cv= 5)\n",
    "grid.fit(X, y)"
   ]
  },
  {
   "cell_type": "code",
   "execution_count": 83,
   "metadata": {},
   "outputs": [
    {
     "name": "stdout",
     "output_type": "stream",
     "text": [
      "grid.best_score_: 0.41885917385157023\n",
      "grid.best_estimator_: 1\n"
     ]
    }
   ],
   "source": [
    "print(\"grid.best_score_:\",grid.best_score_)\n",
    "print(\"grid.best_estimator_:\",grid.best_estimator_.n_neighbors)"
   ]
  },
  {
   "cell_type": "code",
   "execution_count": 84,
   "metadata": {},
   "outputs": [],
   "source": [
    "knn_model2 = KNeighborsRegressor(n_neighbors=1)\n",
    "knn = knn_model2.fit(X_train, y_train)\n",
    "knn_pred = knn.predict(X_test)"
   ]
  },
  {
   "cell_type": "code",
   "execution_count": 85,
   "metadata": {},
   "outputs": [
    {
     "name": "stdout",
     "output_type": "stream",
     "text": [
      "R-squared score for knn training: 0.9979474823816539\n"
     ]
    }
   ],
   "source": [
    "scores = cross_val_score(knn_model2,X_train,y_train, cv=5)\n",
    "print(f'R-squared score for knn training: {scores.mean()}')"
   ]
  },
  {
   "cell_type": "code",
   "execution_count": 86,
   "metadata": {},
   "outputs": [
    {
     "name": "stdout",
     "output_type": "stream",
     "text": [
      "R-squared score for knn testing: 0.9967642190556054\n"
     ]
    }
   ],
   "source": [
    "scores2 = cross_val_score(knn_model2,y_test,knn_pred,cv=5)\n",
    "print(f'R-squared score for knn testing: {scores2.mean()}')"
   ]
  },
  {
   "cell_type": "code",
   "execution_count": 87,
   "metadata": {},
   "outputs": [
    {
     "name": "stdout",
     "output_type": "stream",
     "text": [
      "mse score for knn: 1.5092807875916946e-32\n"
     ]
    }
   ],
   "source": [
    "knn_mse_value = mean_squared_error(y_test,y_pred)\n",
    "print(f'mse score for knn: {knn_mse_value}')"
   ]
  }
 ],
 "metadata": {
  "kernelspec": {
   "display_name": "Python 3",
   "language": "python",
   "name": "python3"
  },
  "language_info": {
   "codemirror_mode": {
    "name": "ipython",
    "version": 3
   },
   "file_extension": ".py",
   "mimetype": "text/x-python",
   "name": "python",
   "nbconvert_exporter": "python",
   "pygments_lexer": "ipython3",
   "version": "3.8.5"
  }
 },
 "nbformat": 4,
 "nbformat_minor": 4
}
